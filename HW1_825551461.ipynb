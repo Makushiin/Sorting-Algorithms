{
  "nbformat": 4,
  "nbformat_minor": 0,
  "metadata": {
    "colab": {
      "provenance": []
    },
    "kernelspec": {
      "name": "python3",
      "display_name": "Python 3"
    },
    "language_info": {
      "name": "python"
    }
  },
  "cells": [
    {
      "cell_type": "code",
      "source": [
        "import numpy as np\n",
        "import sys\n",
        "import math\n",
        "\n",
        "# Import timer lib. to measure running time\n",
        "from timeit import default_timer as timer\n",
        "\n",
        "# Import plot lib. to plot results.\n",
        "# You may need to install matplotlib by typing \"python3 -m pip install -U matplotlib\" in the terminal\n",
        "import matplotlib.pyplot as plt"
      ],
      "metadata": {
        "id": "YTh5TzdNnTQh"
      },
      "execution_count": 1,
      "outputs": []
    },
    {
      "cell_type": "markdown",
      "source": [
        "## **Q1.**"
      ],
      "metadata": {
        "id": "n5yu7ycUnwhB"
      }
    },
    {
      "cell_type": "code",
      "source": [
        "input_A = [23, 12, 56, -1, 23, 32, 3, 0, 10, 16]"
      ],
      "metadata": {
        "id": "UlI-3UsYnaL-"
      },
      "execution_count": 2,
      "outputs": []
    },
    {
      "cell_type": "code",
      "source": [
        "def SelectionSort(A, n):\n",
        "    for i in range(n - 1):\n",
        "        smallest = i\n",
        "      \n",
        "        for j in range(i + 1, n):\n",
        "            if A[j] < A[smallest]:\n",
        "                smallest = j\n",
        "\n",
        "        (A[i], A[smallest]) = (A[smallest], A[i])\n",
        "\n",
        "    return A"
      ],
      "metadata": {
        "id": "bdlY6LKjnRf1"
      },
      "execution_count": 3,
      "outputs": []
    },
    {
      "cell_type": "code",
      "source": [
        "#Display results of Selection Sort\n",
        "input_A = [23, 12, 56, -1, 23, 32, 3, 0, 10, 16]\n",
        "SelectionSort(input_A, len(input_A))\n",
        "print(\"Results of Selection Sort:\")\n",
        "print(input_A)"
      ],
      "metadata": {
        "colab": {
          "base_uri": "https://localhost:8080/"
        },
        "id": "x33eHecZnbNw",
        "outputId": "9042975d-49ce-4122-b8f8-31eabe289b06"
      },
      "execution_count": 4,
      "outputs": [
        {
          "output_type": "stream",
          "name": "stdout",
          "text": [
            "Results of Selection Sort:\n",
            "[-1, 0, 3, 10, 12, 16, 23, 23, 32, 56]\n"
          ]
        }
      ]
    },
    {
      "cell_type": "markdown",
      "source": [
        "# **Q2.**"
      ],
      "metadata": {
        "id": "C-Mv6PCuoIop"
      }
    },
    {
      "cell_type": "code",
      "source": [
        "def BubbleSort(A, n):\n",
        "    for i in range(n):\n",
        "\n",
        "        for j in range(0, n - i - 1):\n",
        "\n",
        "            if A[j] > A[j + 1]:\n",
        "                temp = A[j]\n",
        "                A[j] = A[j+1]\n",
        "                A[j + 1] = temp\n",
        "                \n",
        "    return A"
      ],
      "metadata": {
        "id": "LnewTnvRoL6e"
      },
      "execution_count": 5,
      "outputs": []
    },
    {
      "cell_type": "code",
      "source": [
        "# 2.1: Display results of Bubble Sort\n",
        "input_A = [23, 12, 56, -1, 23, 32, 3, 0, 10, 16]\n",
        "BubbleSort(input_A, len(input_A))\n",
        "print(\"Results of Bubble Sort:\")\n",
        "print(input_A)"
      ],
      "metadata": {
        "colab": {
          "base_uri": "https://localhost:8080/"
        },
        "id": "yL29ffwcodxF",
        "outputId": "c33f7bf6-ccce-497d-a0cf-f18cbf850214"
      },
      "execution_count": 6,
      "outputs": [
        {
          "output_type": "stream",
          "name": "stdout",
          "text": [
            "Results of Bubble Sort:\n",
            "[-1, 0, 3, 10, 12, 16, 23, 23, 32, 56]\n"
          ]
        }
      ]
    },
    {
      "cell_type": "code",
      "source": [
        "# 2.2: Generate random input with the range of S <= input <= F\n",
        "S = -1000 \n",
        "F = 1000 \n",
        "N = 1000 # size of input\n",
        "\n",
        "random_input = np.random.randint(S, F, N)\n",
        "\n",
        "#Bubble Sort running time\n",
        "start = timer()\n",
        "BubbleSort(random_input, len(random_input))\n",
        "end = timer()\n",
        "print(\"Bubble sort running time:\")\n",
        "print(end-start)"
      ],
      "metadata": {
        "colab": {
          "base_uri": "https://localhost:8080/"
        },
        "id": "k6oTL5gMokD8",
        "outputId": "9f2a53f1-b319-43d4-e1e3-07ce3bfd6aa8"
      },
      "execution_count": 7,
      "outputs": [
        {
          "output_type": "stream",
          "name": "stdout",
          "text": [
            "Bubble sort running time:\n",
            "0.6828749960000025\n"
          ]
        }
      ]
    },
    {
      "cell_type": "markdown",
      "source": [
        "# **Q3.**"
      ],
      "metadata": {
        "id": "bBfL0_aeo8oU"
      }
    },
    {
      "cell_type": "code",
      "source": [
        "def InsertionSort(A, n):\n",
        "    for i in range(1, n):        \n",
        "        key = A[i]\n",
        "        j = i-1\n",
        "\n",
        "        while j >=0 and key < A[j]:\n",
        "            A[j+1] = A[j]\n",
        "            j -= 1\n",
        "        A[j+1] = key\n",
        "    return A"
      ],
      "metadata": {
        "id": "E3BxsYzipAHP"
      },
      "execution_count": 8,
      "outputs": []
    },
    {
      "cell_type": "code",
      "source": [
        "# 3.1: Display results of Insertion Sort\n",
        "input_A = [23, 12, 56, -1, 23, 32, 3, 0, 10, 16]\n",
        "InsertionSort(input_A, len(input_A))\n",
        "print(\"Results of Insertion Sort:\")\n",
        "print(input_A)"
      ],
      "metadata": {
        "colab": {
          "base_uri": "https://localhost:8080/"
        },
        "id": "OoImjaGopE6U",
        "outputId": "fbbeb162-1000-4db0-fc1f-6087c02790cc"
      },
      "execution_count": 9,
      "outputs": [
        {
          "output_type": "stream",
          "name": "stdout",
          "text": [
            "Results of Insertion Sort:\n",
            "[-1, 0, 3, 10, 12, 16, 23, 23, 32, 56]\n"
          ]
        }
      ]
    },
    {
      "cell_type": "code",
      "source": [
        "# 3.2: Insertion Sort running time\n",
        "size = [100, 1000, 2000, 3000, 4000, 5000]\n",
        "random_set, asc_set, dsc_set = [], [], []\n",
        "for i in range(0, len(size)):\n",
        "    random_set.append(np.random.randint(0, 1000000, size[i]))\n",
        "    asc_set.append(np.arange(0, size[i]))\n",
        "    dsc_set.append(np.arange(size[i], 0, -1))\n",
        "\n",
        "IS_RS_RT = []\n",
        "IS_ASC_RT = []\n",
        "IS_DSC_RT = []\n",
        "\n",
        "print(\"\\nInsertion Sort times with random_set:\")\n",
        "for array in random_set:\n",
        "    start = timer()\n",
        "    InsertionSort(array, len(array))\n",
        "    end = timer()\n",
        "    IS_RS_RT.append(end - start)\n",
        "    print(end-start)\n",
        "\n",
        "print(\"\\nInsertion Sort times with asc_set:\")\n",
        "for array in asc_set:\n",
        "    start = timer()\n",
        "    InsertionSort(array, len(array))\n",
        "    end = timer()\n",
        "    IS_ASC_RT.append(end - start)\n",
        "    print(end-start)\n",
        "\n",
        "print(\"\\nInsertion Sort times with dsc_set:\")\n",
        "for array in dsc_set:\n",
        "    start = timer()\n",
        "    InsertionSort(array, len(array))\n",
        "    end = timer()\n",
        "    IS_DSC_RT.append(end - start)\n",
        "    print(end-start)"
      ],
      "metadata": {
        "colab": {
          "base_uri": "https://localhost:8080/"
        },
        "id": "CRHrPYAzpfmW",
        "outputId": "098e1e4d-3405-408a-9bf4-e819dc1de5f9"
      },
      "execution_count": 10,
      "outputs": [
        {
          "output_type": "stream",
          "name": "stdout",
          "text": [
            "\n",
            "Insertion Sort times with random_set:\n",
            "0.004590075999999499\n",
            "0.23369247200000132\n",
            "0.9609358410000013\n",
            "2.031928578000006\n",
            "5.557199994000001\n",
            "9.271856761999999\n",
            "\n",
            "Insertion Sort times with asc_set:\n",
            "0.00011018499999693177\n",
            "0.000851354999994669\n",
            "0.0017776400000002468\n",
            "0.002501774999998929\n",
            "0.003281778999998153\n",
            "0.004154772999996226\n",
            "\n",
            "Insertion Sort times with dsc_set:\n",
            "0.003674818000000357\n",
            "0.48237499700000086\n",
            "2.660566291000002\n",
            "5.646945484\n",
            "6.168710590000003\n",
            "5.444677891000012\n"
          ]
        }
      ]
    },
    {
      "cell_type": "code",
      "source": [
        "#Plot running times for Insertion Sort\n",
        "size = [100, 1000, 2000, 3000, 4000, 5000]\n",
        "plt.plot(size, IS_RS_RT, color= 'pink', label = 'Random input' )\n",
        "plt.plot(size, IS_ASC_RT, color='blue', label='Ascending input')\n",
        "plt.plot(size, IS_DSC_RT, color='green', label='Descending input')\n",
        "plt.title(\"Running time of insertion sort\")\n",
        "plt.xlabel(\"Input size\")\n",
        "plt.ylabel(\"Running time[seconds]\")\n",
        "plt.grid(True)\n",
        "plt.legend()\n",
        "plt.show()"
      ],
      "metadata": {
        "colab": {
          "base_uri": "https://localhost:8080/",
          "height": 295
        },
        "id": "LPrd60lEpjzC",
        "outputId": "948bb179-6881-480b-a4e3-7d9cf8ea171d"
      },
      "execution_count": 11,
      "outputs": [
        {
          "output_type": "display_data",
          "data": {
            "text/plain": [
              "<Figure size 432x288 with 1 Axes>"
            ],
            "image/png": "[encoded data removed]"
          },
          "metadata": {
            "needs_background": "light"
          }
        }
      ]
    },
    {
      "cell_type": "markdown",
      "source": [
        "Insertion Sort Running Time Analysis:\n",
        "\n",
        "Best Case running time: If the array is already in ascending order and performs no swaps so it is  O(n) \n",
        "\n",
        "Average Case running time: In our case this would be the random_set array. The outer loop runs n times and the inner loop (n+1)/2 times, so the time complexity is  O(n^2) \n",
        "\n",
        "Worst Case running time: This is when the array is in descending order which needs n(n-1) swaps so it is  O(n^2)"
      ],
      "metadata": {
        "id": "pryLk2CGpquO"
      }
    },
    {
      "cell_type": "markdown",
      "source": [
        "# **Q4.**"
      ],
      "metadata": {
        "id": "yTs1dSPAp7bi"
      }
    },
    {
      "cell_type": "code",
      "source": [
        "def merge(arr, l, m, r):\n",
        "    n1 = m - l + 1\n",
        "    n2 = r - m\n",
        " \n",
        "    L = [0] * (n1)\n",
        "    R = [0] * (n2)\n",
        " \n",
        "    for i in range(0, n1):\n",
        "        L[i] = arr[l + i]\n",
        " \n",
        "    for j in range(0, n2):\n",
        "        R[j] = arr[m + 1 + j]\n",
        "\n",
        "    i = 0    \n",
        "    j = 0   \n",
        "    k = l     \n",
        " \n",
        "    while i < n1 and j < n2:\n",
        "        if L[i] <= R[j]:\n",
        "            arr[k] = L[i]\n",
        "            i += 1\n",
        "        else:\n",
        "            arr[k] = R[j]\n",
        "            j += 1\n",
        "        k += 1\n",
        " \n",
        "    while i < n1:\n",
        "        arr[k] = L[i]\n",
        "        i += 1\n",
        "        k += 1\n",
        "\n",
        "    while j < n2:\n",
        "        arr[k] = R[j]\n",
        "        j += 1\n",
        "        k += 1\n",
        " \n",
        "    return arr\n",
        " \n",
        "def mergeSort(arr, l, r):\n",
        "    if l < r:\n",
        "        m = l+(r-l)//2\n",
        "        mergeSort(arr, l, m)\n",
        "        mergeSort(arr, m+1, r)\n",
        "        merge(arr, l, m, r)\n",
        "\n",
        "    return arr"
      ],
      "metadata": {
        "id": "qJp1uh-Qp9tE"
      },
      "execution_count": 12,
      "outputs": []
    },
    {
      "cell_type": "code",
      "source": [
        "# 4.1: Display results of Merge Sort\n",
        "input_A = [23, 12, 56, -1, 23, 32, 3, 0, 10, 16]\n",
        "mergeSort(input_A, 0, len(input_A) - 1)\n",
        "print(\"Results of Merge Sort:\")\n",
        "print(input_A)"
      ],
      "metadata": {
        "colab": {
          "base_uri": "https://localhost:8080/"
        },
        "id": "yt_jE00tqHj9",
        "outputId": "ad9ca721-0d27-483d-f2d8-a1738a275f74"
      },
      "execution_count": 13,
      "outputs": [
        {
          "output_type": "stream",
          "name": "stdout",
          "text": [
            "Results of Merge Sort:\n",
            "[-1, 0, 3, 10, 12, 16, 23, 23, 32, 56]\n"
          ]
        }
      ]
    },
    {
      "cell_type": "code",
      "source": [
        "# 4.2:\n",
        "size = [1000, 10000, 20000, 30000, 40000, 50000]\n",
        "\n",
        "random_set, asc_set, dsc_set = [], [], []\n",
        "for i in range(0, len(size)):\n",
        "    random_set.append(np.random.randint(0, 1000000, size[i]))\n",
        "    asc_set.append(np.arange(0, size[i]))\n",
        "    dsc_set.append(np.arange(size[i], 0, -1))\n",
        "\n",
        "MS_RS_RT = []\n",
        "MS_ASC_RT = []\n",
        "MS_DSC_RT = []\n",
        "\n",
        "#Running Times for Merge Sort\n",
        "print(\"\\nMerge Sort times with random_set:\")\n",
        "for array in random_set:\n",
        "    start = timer()\n",
        "    mergeSort(array, 0, len(array) - 1)\n",
        "    end = timer()\n",
        "    MS_RS_RT.append(end - start)\n",
        "    print(end-start)\n",
        "\n",
        "print(\"\\nMerge Sort times with asc_set:\")\n",
        "for array in asc_set:\n",
        "    start = timer()\n",
        "    mergeSort(array, 0, len(array) - 1)\n",
        "    end = timer()\n",
        "    MS_ASC_RT.append(end - start)\n",
        "    print(end-start)\n",
        "\n",
        "print(\"\\nMerge Sort times with dsc_set:\")\n",
        "for array in dsc_set:\n",
        "    start = timer()\n",
        "    mergeSort(array, 0, len(array) - 1)\n",
        "    end = timer()\n",
        "    MS_DSC_RT.append(end - start)\n",
        "    print(end-start)"
      ],
      "metadata": {
        "colab": {
          "base_uri": "https://localhost:8080/"
        },
        "id": "RF7H8HZ8qQBu",
        "outputId": "1d9d5a0c-9fb2-48d5-c16a-2faa13de0307"
      },
      "execution_count": 14,
      "outputs": [
        {
          "output_type": "stream",
          "name": "stdout",
          "text": [
            "\n",
            "Merge Sort times with random_set:\n",
            "0.008202444999994896\n",
            "0.09000521799998751\n",
            "0.19706992400000445\n",
            "0.4272428270000006\n",
            "0.8431014569999888\n",
            "1.0827556420000093\n",
            "\n",
            "Merge Sort times with asc_set:\n",
            "0.012861526000008894\n",
            "0.16418354800001111\n",
            "0.34482335999999236\n",
            "0.3928801760000056\n",
            "0.38150683199999946\n",
            "0.4727675110000007\n",
            "\n",
            "Merge Sort times with dsc_set:\n",
            "0.007258806999999479\n",
            "0.07830011800000136\n",
            "0.18009645400000807\n",
            "0.27708171800000514\n",
            "0.3536159060000017\n",
            "0.4643974629999974\n"
          ]
        }
      ]
    },
    {
      "cell_type": "code",
      "source": [
        "#Plot running times for Merge Sort\n",
        "size = [1000, 10000, 20000, 30000, 40000, 50000]\n",
        "plt.plot(size, MS_RS_RT, color= 'pink', label = 'Random input' )\n",
        "plt.plot(size, MS_ASC_RT, color='blue', label='Ascending input')\n",
        "plt.plot(size, MS_DSC_RT, color='green', label='Descending input')\n",
        "plt.title(\"Running time of merge sort\")\n",
        "plt.xlabel(\"Input size\")\n",
        "plt.ylabel(\"Running time[seconds]\")\n",
        "plt.grid(True)\n",
        "plt.legend()\n",
        "plt.show()"
      ],
      "metadata": {
        "colab": {
          "base_uri": "https://localhost:8080/",
          "height": 295
        },
        "id": "sQIKh58wqV5s",
        "outputId": "21941899-52ba-4ce7-c2bc-d7fce3f3b7f4"
      },
      "execution_count": 15,
      "outputs": [
        {
          "output_type": "display_data",
          "data": {
            "text/plain": [
              "<Figure size 432x288 with 1 Axes>"
            ],
            "image/png": "[encoded data removed]"
          },
          "metadata": {
            "needs_background": "light"
          }
        }
      ]
    },
    {
      "cell_type": "markdown",
      "source": [
        "Merge Sort Running Time Analysis:\n",
        "\n",
        "All three cases for merge sort (best, worst, and average) have the same time compelxity of O(n * logn) because whatever the input array is, the array will still be divided in half and takes linear time to merge it back into one array. Hence, why the graph of the running time for merge sort for the three different inputs are about the same."
      ],
      "metadata": {
        "id": "MCiltyb9qYhi"
      }
    }
  ]
}